{
 "cells": [
  {
   "cell_type": "markdown",
   "metadata": {},
   "source": [
    "# Problem - 1 : Anagram Check\n"
   ]
  },
  {
   "cell_type": "markdown",
   "metadata": {},
   "source": [
    "- An Anagram is when the two strings can be written using the extract same letters (Rearrange the letters to get different phrases or word)\n",
    "\n",
    "Eg:  \"public relations\" is an anagram of \"crap built on lies\""
   ]
  },
  {
   "cell_type": "markdown",
   "metadata": {},
   "source": [
    "#### Solutions\n",
    " * Sort the letters and compare\n",
    " * Count the letters and compare"
   ]
  },
  {
   "cell_type": "markdown",
   "metadata": {},
   "source": [
    "##### Solution 1 -"
   ]
  },
  {
   "cell_type": "code",
   "execution_count": 15,
   "metadata": {},
   "outputs": [],
   "source": [
    "#Sort the letters and compare\n",
    "def anagram_checker1(str1,str2):\n",
    "    str1= str1.lower().replace(\" \",\"\")\n",
    "    str2= str2.lower().replace(\" \",\"\")\n",
    "    return sorted(str1)==sorted(str2)"
   ]
  },
  {
   "cell_type": "markdown",
   "metadata": {},
   "source": [
    "##### Solution 2 -"
   ]
  },
  {
   "cell_type": "code",
   "execution_count": 36,
   "metadata": {},
   "outputs": [],
   "source": [
    "#Count the letters and compare\n",
    "def anagram_checker2(str1,str2):\n",
    "    str1= str1.lower().replace(\" \",\"\")\n",
    "    str2= str2.lower().replace(\" \",\"\")\n",
    "    counter={}\n",
    "    for ltr in str1:\n",
    "        if ltr not in counter:\n",
    "            counter[ltr]=1\n",
    "        else:\n",
    "            counter[ltr]+=1\n",
    "    \n",
    "    for ltr in str2:\n",
    "        if ltr not in counter:\n",
    "            counter[ltr]=1\n",
    "        else:\n",
    "            counter[ltr]-=1\n",
    "\n",
    "    for val in counter.values():\n",
    "        if val !=0:\n",
    "            return False\n",
    "    return True\n",
    "        "
   ]
  },
  {
   "cell_type": "code",
   "execution_count": 42,
   "metadata": {},
   "outputs": [
    {
     "name": "stdout",
     "output_type": "stream",
     "text": [
      "True\n",
      "True\n",
      "1.23 µs ± 7.66 ns per loop (mean ± std. dev. of 7 runs, 1000000 loops each)\n",
      "1.73 µs ± 8.24 ns per loop (mean ± std. dev. of 7 runs, 1000000 loops each)\n"
     ]
    }
   ],
   "source": [
    "print(anagram_checker2('Go d',\"dgo\"))\n",
    "print(anagram_checker1('Go d',\"dgo\"))\n",
    "%timeit anagram_checker1('Go d',\"dgo\")\n",
    "%timeit anagram_checker2('Go d',\"dgo\")"
   ]
  },
  {
   "cell_type": "markdown",
   "metadata": {},
   "source": [
    "## Problem - 2: Array Pair sum\n",
    "* Given an integer array, output all the unique pairs that sum up to specific value k\n",
    " \n",
    " Eg: input list=[1,2,3,2], sum=4\n",
    " \n",
    "     possible ans-> (1,3), (2,2)"
   ]
  },
  {
   "cell_type": "markdown",
   "metadata": {},
   "source": [
    "##### Solution 1"
   ]
  },
  {
   "cell_type": "code",
   "execution_count": 56,
   "metadata": {},
   "outputs": [],
   "source": [
    "def pair_sum1(arr,tar):\n",
    "    if len(arr)<2:\n",
    "        return None\n",
    "    seen =set()\n",
    "    result = set()\n",
    "    for i in arr:\n",
    "        temp= tar-i\n",
    "        if temp not in seen:\n",
    "            seen.add(i)\n",
    "        else:\n",
    "            result.add((min(i,temp),max(i,temp)))\n",
    "            \n",
    "    return result"
   ]
  },
  {
   "cell_type": "code",
   "execution_count": 59,
   "metadata": {},
   "outputs": [
    {
     "name": "stdout",
     "output_type": "stream",
     "text": [
      "2.25 µs ± 114 ns per loop (mean ± std. dev. of 7 runs, 100000 loops each)\n"
     ]
    }
   ],
   "source": [
    "arr=[1,2,2,3]\n",
    "tar=4\n",
    "pair_sum2(arr,tar)\n",
    "%timeit pair_sum1(arr,tar)"
   ]
  },
  {
   "cell_type": "markdown",
   "metadata": {},
   "source": [
    "##### Solution 2"
   ]
  },
  {
   "cell_type": "code",
   "execution_count": 54,
   "metadata": {},
   "outputs": [],
   "source": [
    "def pair_sum2(arr, tar):\n",
    "    res=set()\n",
    "    if len(arr)<2:\n",
    "        return None\n",
    "    for index1 in range(len(arr)):\n",
    "        for index2 in range(index1+1, len(arr)):\n",
    "            if arr[index1]+arr[index2]==tar:\n",
    "                res.add((arr[index1],arr[index2]))   \n",
    "    return res\n",
    "\n"
   ]
  },
  {
   "cell_type": "code",
   "execution_count": 58,
   "metadata": {},
   "outputs": [
    {
     "name": "stdout",
     "output_type": "stream",
     "text": [
      "2.38 µs ± 135 ns per loop (mean ± std. dev. of 7 runs, 100000 loops each)\n"
     ]
    }
   ],
   "source": [
    "pair_sum2(arr,tar)\n",
    "%timeit pair_sum1(arr,tar)"
   ]
  },
  {
   "cell_type": "markdown",
   "metadata": {},
   "source": [
    "## Problem - 3:\n",
    " * Find the Missing element- Consider two lists with non negative integers, Second list with shuffled elements and missing one random element.\n",
    "   \n",
    "   \n",
    "       Eg: [1,2,3,4,5], [5,3,2,1]\n",
    "        Missing - 4"
   ]
  },
  {
   "cell_type": "markdown",
   "metadata": {},
   "source": [
    "#### Solution 1:"
   ]
  },
  {
   "cell_type": "code",
   "execution_count": 1,
   "metadata": {},
   "outputs": [],
   "source": [
    "def missing1(arr1,arr2):\n",
    "    tracker ={}\n",
    "    for key in arr1:\n",
    "        if key not in tracker:\n",
    "            tracker[key]=1\n",
    "        else:\n",
    "            tracker[key]+=1\n",
    "    \n",
    "    for key in arr2:\n",
    "        if key not in tracker:\n",
    "            tracker[key]=1\n",
    "        else:\n",
    "            tracker[key]-=1\n",
    "    for key, val in tracker.items():\n",
    "        if val !=0:\n",
    "            return key\n",
    "    return false"
   ]
  },
  {
   "cell_type": "code",
   "execution_count": 15,
   "metadata": {},
   "outputs": [
    {
     "data": {
      "text/plain": [
       "5"
      ]
     },
     "execution_count": 15,
     "metadata": {},
     "output_type": "execute_result"
    }
   ],
   "source": [
    "arr1=[1,2,3,4,5]\n",
    "arr2=[2,3,1,4]\n",
    "missing1(arr1,arr2)"
   ]
  },
  {
   "cell_type": "code",
   "execution_count": 6,
   "metadata": {},
   "outputs": [
    {
     "name": "stdout",
     "output_type": "stream",
     "text": [
      "2.01 µs ± 149 ns per loop (mean ± std. dev. of 7 runs, 1000000 loops each)\n"
     ]
    }
   ],
   "source": [
    "%timeit missing1([1,2,3,4,5],[2,3,1,4])"
   ]
  },
  {
   "cell_type": "code",
   "execution_count": 25,
   "metadata": {},
   "outputs": [],
   "source": [
    "def missing2(arr1,arr2):\n",
    "    arr1.sort()\n",
    "    arr2.sort()\n",
    "    for k,v in zip(arr1,arr2):\n",
    "        if k!=v:\n",
    "            return k\n",
    "    return arr1[-1]"
   ]
  },
  {
   "cell_type": "code",
   "execution_count": 26,
   "metadata": {},
   "outputs": [
    {
     "data": {
      "text/plain": [
       "5"
      ]
     },
     "execution_count": 26,
     "metadata": {},
     "output_type": "execute_result"
    }
   ],
   "source": [
    "missing2(arr1,arr2)"
   ]
  },
  {
   "cell_type": "code",
   "execution_count": 27,
   "metadata": {},
   "outputs": [
    {
     "name": "stdout",
     "output_type": "stream",
     "text": [
      "1.08 µs ± 31.3 ns per loop (mean ± std. dev. of 7 runs, 1000000 loops each)\n"
     ]
    }
   ],
   "source": [
    "%timeit missing2([1,2,3,4,5],[2,3,1,4])"
   ]
  },
  {
   "cell_type": "markdown",
   "metadata": {},
   "source": [
    "## Problem - 4:\n",
    "* Largest continuous sum\n",
    "    Given an array of integers, find the largest continuous sum\n",
    "    Eg:\n",
    "        arr= [1,2,3,-1,-2,10,-3,1]\n",
    "        sum = 13"
   ]
  },
  {
   "cell_type": "markdown",
   "metadata": {},
   "source": [
    "#### Solution 1"
   ]
  },
  {
   "cell_type": "code",
   "execution_count": 38,
   "metadata": {},
   "outputs": [],
   "source": [
    "def large_sum1(arr):\n",
    "    large_sum=0\n",
    "    current_sum=0\n",
    "    for ele in arr:\n",
    "        current_sum= current_sum+ele\n",
    "        if current_sum>large_sum:\n",
    "            large_sum=current_sum\n",
    "    return large_sum\n",
    "\n",
    "\n"
   ]
  },
  {
   "cell_type": "code",
   "execution_count": 39,
   "metadata": {},
   "outputs": [
    {
     "data": {
      "text/plain": [
       "13"
      ]
     },
     "execution_count": 39,
     "metadata": {},
     "output_type": "execute_result"
    }
   ],
   "source": [
    "arr= [1,2,3,-1,-2,10,-3,1]\n",
    "large_sum1(arr)"
   ]
  },
  {
   "cell_type": "code",
   "execution_count": 40,
   "metadata": {},
   "outputs": [
    {
     "data": {
      "text/plain": [
       "1"
      ]
     },
     "execution_count": 40,
     "metadata": {},
     "output_type": "execute_result"
    }
   ],
   "source": [
    "arr1= [1,-1]\n",
    "large_sum1(arr1)"
   ]
  },
  {
   "cell_type": "code",
   "execution_count": 41,
   "metadata": {},
   "outputs": [
    {
     "name": "stdout",
     "output_type": "stream",
     "text": [
      "807 ns ± 23.3 ns per loop (mean ± std. dev. of 7 runs, 1000000 loops each)\n"
     ]
    }
   ],
   "source": [
    "%timeit large_sum1(arr)"
   ]
  },
  {
   "cell_type": "markdown",
   "metadata": {},
   "source": [
    "#### Solution 2"
   ]
  },
  {
   "cell_type": "code",
   "execution_count": 47,
   "metadata": {},
   "outputs": [],
   "source": [
    "def large_sum2(arr):\n",
    "    curr_sum= arr[0]\n",
    "    max_sum=arr[0]\n",
    "    for ele in arr[1:]:\n",
    "        curr_sum= max(curr_sum+ele, ele)\n",
    "        max_sum= max(max_sum,curr_sum)\n",
    "    \n",
    "    return max_sum"
   ]
  },
  {
   "cell_type": "code",
   "execution_count": 48,
   "metadata": {},
   "outputs": [
    {
     "data": {
      "text/plain": [
       "13"
      ]
     },
     "execution_count": 48,
     "metadata": {},
     "output_type": "execute_result"
    }
   ],
   "source": [
    "large_sum2(arr)"
   ]
  },
  {
   "cell_type": "code",
   "execution_count": 49,
   "metadata": {},
   "outputs": [
    {
     "name": "stdout",
     "output_type": "stream",
     "text": [
      "790 ns ± 2.55 ns per loop (mean ± std. dev. of 7 runs, 1000000 loops each)\n"
     ]
    }
   ],
   "source": [
    "%timeit large_sum1(arr)"
   ]
  },
  {
   "cell_type": "code",
   "execution_count": null,
   "metadata": {},
   "outputs": [],
   "source": []
  }
 ],
 "metadata": {
  "kernelspec": {
   "display_name": "Python 3",
   "language": "python",
   "name": "python3"
  },
  "language_info": {
   "codemirror_mode": {
    "name": "ipython",
    "version": 3
   },
   "file_extension": ".py",
   "mimetype": "text/x-python",
   "name": "python",
   "nbconvert_exporter": "python",
   "pygments_lexer": "ipython3",
   "version": "3.8.5"
  }
 },
 "nbformat": 4,
 "nbformat_minor": 4
}
