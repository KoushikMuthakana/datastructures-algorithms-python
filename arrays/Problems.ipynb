{
 "cells": [
  {
   "cell_type": "markdown",
   "metadata": {},
   "source": [
    "# Problem - 1 : Anagram Check\n"
   ]
  },
  {
   "cell_type": "markdown",
   "metadata": {},
   "source": [
    "- An Anagram is when the two strings can be written using the extract same letters (Rearrange the letters to get different phrases or word)\n",
    "\n",
    "Eg:  \"public relations\" is an anagram of \"crap built on lies\""
   ]
  },
  {
   "cell_type": "markdown",
   "metadata": {},
   "source": [
    "#### Solutions\n",
    " * Sort the letters and compare\n",
    " * Count the letters and compare"
   ]
  },
  {
   "cell_type": "markdown",
   "metadata": {},
   "source": [
    "##### Solution 1 -"
   ]
  },
  {
   "cell_type": "code",
   "execution_count": 15,
   "metadata": {},
   "outputs": [],
   "source": [
    "#Sort the letters and compare\n",
    "def anagram_checker1(str1,str2):\n",
    "    str1= str1.lower().replace(\" \",\"\")\n",
    "    str2= str2.lower().replace(\" \",\"\")\n",
    "    return sorted(str1)==sorted(str2)"
   ]
  },
  {
   "cell_type": "markdown",
   "metadata": {},
   "source": [
    "##### Solution 2 -"
   ]
  },
  {
   "cell_type": "code",
   "execution_count": 36,
   "metadata": {},
   "outputs": [],
   "source": [
    "#Count the letters and compare\n",
    "def anagram_checker2(str1,str2):\n",
    "    str1= str1.lower().replace(\" \",\"\")\n",
    "    str2= str2.lower().replace(\" \",\"\")\n",
    "    counter={}\n",
    "    for ltr in str1:\n",
    "        if ltr not in counter:\n",
    "            counter[ltr]=1\n",
    "        else:\n",
    "            counter[ltr]+=1\n",
    "    \n",
    "    for ltr in str2:\n",
    "        if ltr not in counter:\n",
    "            counter[ltr]=1\n",
    "        else:\n",
    "            counter[ltr]-=1\n",
    "\n",
    "    for val in counter.values():\n",
    "        if val !=0:\n",
    "            return False\n",
    "    return True\n",
    "        "
   ]
  },
  {
   "cell_type": "code",
   "execution_count": null,
   "metadata": {},
   "outputs": [],
   "source": []
  },
  {
   "cell_type": "code",
   "execution_count": 42,
   "metadata": {},
   "outputs": [
    {
     "name": "stdout",
     "output_type": "stream",
     "text": [
      "True\n",
      "True\n",
      "1.23 µs ± 7.66 ns per loop (mean ± std. dev. of 7 runs, 1000000 loops each)\n",
      "1.73 µs ± 8.24 ns per loop (mean ± std. dev. of 7 runs, 1000000 loops each)\n"
     ]
    }
   ],
   "source": [
    "print(anagram_checker2('Go d',\"dgo\"))\n",
    "print(anagram_checker1('Go d',\"dgo\"))\n",
    "%timeit anagram_checker1('Go d',\"dgo\")\n",
    "%timeit anagram_checker2('Go d',\"dgo\")"
   ]
  },
  {
   "cell_type": "markdown",
   "metadata": {},
   "source": [
    "## Problem - 2: Array Pair sum\n",
    "* Given an integer array, output all the unique pairs that sum up to specific value k\n",
    " \n",
    " Eg: input list=[1,2,3,2], sum=4\n",
    " \n",
    "     possible ans-> (1,3), (2,2)"
   ]
  },
  {
   "cell_type": "markdown",
   "metadata": {},
   "source": [
    "##### Solution 1"
   ]
  },
  {
   "cell_type": "code",
   "execution_count": 56,
   "metadata": {},
   "outputs": [],
   "source": [
    "def pair_sum1(arr,tar):\n",
    "    if len(arr)<2:\n",
    "        return None\n",
    "    seen =set()\n",
    "    result = set()\n",
    "    for i in arr:\n",
    "        temp= tar-i\n",
    "        if temp not in seen:\n",
    "            seen.add(i)\n",
    "        else:\n",
    "            result.add((min(i,temp),max(i,temp)))\n",
    "            \n",
    "    return result"
   ]
  },
  {
   "cell_type": "code",
   "execution_count": 59,
   "metadata": {},
   "outputs": [
    {
     "name": "stdout",
     "output_type": "stream",
     "text": [
      "2.25 µs ± 114 ns per loop (mean ± std. dev. of 7 runs, 100000 loops each)\n"
     ]
    }
   ],
   "source": [
    "arr=[1,2,2,3]\n",
    "tar=4\n",
    "pair_sum2(arr,tar)\n",
    "%timeit pair_sum1(arr,tar)"
   ]
  },
  {
   "cell_type": "markdown",
   "metadata": {},
   "source": [
    "##### Solution 2"
   ]
  },
  {
   "cell_type": "code",
   "execution_count": 54,
   "metadata": {},
   "outputs": [],
   "source": [
    "def pair_sum2(arr, tar):\n",
    "    res=set()\n",
    "    if len(arr)<2:\n",
    "        return None\n",
    "    for index1 in range(len(arr)):\n",
    "        for index2 in range(index1+1, len(arr)):\n",
    "            if arr[index1]+arr[index2]==tar:\n",
    "                res.add((arr[index1],arr[index2]))   \n",
    "    return res\n",
    "\n"
   ]
  },
  {
   "cell_type": "code",
   "execution_count": 58,
   "metadata": {},
   "outputs": [
    {
     "name": "stdout",
     "output_type": "stream",
     "text": [
      "2.38 µs ± 135 ns per loop (mean ± std. dev. of 7 runs, 100000 loops each)\n"
     ]
    }
   ],
   "source": [
    "pair_sum2(arr,tar)\n",
    "%timeit pair_sum1(arr,tar)"
   ]
  },
  {
   "cell_type": "code",
   "execution_count": null,
   "metadata": {},
   "outputs": [],
   "source": []
  },
  {
   "cell_type": "code",
   "execution_count": null,
   "metadata": {},
   "outputs": [],
   "source": []
  }
 ],
 "metadata": {
  "kernelspec": {
   "display_name": "Python 3",
   "language": "python",
   "name": "python3"
  },
  "language_info": {
   "codemirror_mode": {
    "name": "ipython",
    "version": 3
   },
   "file_extension": ".py",
   "mimetype": "text/x-python",
   "name": "python",
   "nbconvert_exporter": "python",
   "pygments_lexer": "ipython3",
   "version": "3.8.5"
  }
 },
 "nbformat": 4,
 "nbformat_minor": 4
}
