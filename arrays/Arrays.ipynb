{
 "cells": [
  {
   "cell_type": "markdown",
   "metadata": {},
   "source": [
    "## Arrays \n",
    "- A sequence of items are stored at a contiguous memory locations\n",
    "\n",
    "#### Low level Abstraction\n",
    "- Each cell of an array uses the same number of bytes\n",
    "- Any call can be accessed in a constant time\n",
    "- Memory Address can be computed using the calculation, <b> start+(cellsize)(index)</b>\n",
    "\n",
    "#### High level Abstraction\n",
    "- Only worries about the index number like 0,1,2,3....\n",
    "- Will not worry about the cell size, it will be take care at the low level(Hardware level)\n",
    "\n",
    "Eg: \n",
    "list     =  [11,12,13,14,15]\n",
    "\n",
    "Index =   0   1  2  3  4\n",
    "\n",
    "#### Referential Arrays\n",
    "- A single list instance may include multiple references to the same object as elements\n",
    "- Single element can be an element of two or more lists \n",
    "\n",
    "Eg: \n",
    "- list1 = [1,23,34]\n",
    "- list2 = [1,32,43] \n",
    "     \n",
    "    <b>list1[0] ---> [1]  <--- list2[0] </b>\n",
    "    \n",
    "    Note: Since the two lists contains the same element 1, two lists has refered to the same element\n",
    "    \n",
    "    <b> id(list1[0]) == id(list2[0])</b>\n",
    "    \n",
    "#### Dynamic Arrays\n",
    "- In python, don't need to specify how large an array/list is before\n",
    "##### Then, How python handles when the list is increasing dynamically??\n",
    "- A list instance often has greater capacity than current length\n",
    "- If the elements keeps getting appending, eventually extra space allocates\n",
    "    "
   ]
  },
  {
   "cell_type": "code",
   "execution_count": 33,
   "metadata": {},
   "outputs": [
    {
     "name": "stdout",
     "output_type": "stream",
     "text": [
      "Length of list 0, Memory Allocation in bytes-  56\n",
      "Length of list 1, Memory Allocation in bytes-  88\n",
      "Length of list 2, Memory Allocation in bytes-  88\n",
      "Length of list 3, Memory Allocation in bytes-  88\n",
      "Length of list 4, Memory Allocation in bytes-  88\n",
      "Length of list 5, Memory Allocation in bytes-  120\n",
      "Length of list 6, Memory Allocation in bytes-  120\n",
      "Length of list 7, Memory Allocation in bytes-  120\n",
      "Length of list 8, Memory Allocation in bytes-  120\n",
      "Length of list 9, Memory Allocation in bytes-  184\n"
     ]
    }
   ],
   "source": [
    "## Dynamic List Memory allocation\n",
    "import sys\n",
    "list1=[]\n",
    "for i in range(10):\n",
    "    length = len(list1)\n",
    "    print(f\"Length of list {length}, Memory Allocation in bytes-  {sys.getsizeof(list1)}\")\n",
    "   \n",
    "    list1.append(i)\n",
    "    "
   ]
  },
  {
   "cell_type": "markdown",
   "metadata": {},
   "source": [
    "#### Creating Own Dynamic Array using Ctype Package"
   ]
  },
  {
   "cell_type": "code",
   "execution_count": 173,
   "metadata": {},
   "outputs": [],
   "source": [
    "import ctypes\n",
    "\n",
    "class DynamicArray:\n",
    "    \n",
    "    \n",
    "    def __init__(self):\n",
    "        self.n= 0\n",
    "        self.capacity=1\n",
    "        self.array = self._create_Array(self.capacity)\n",
    "    \n",
    "    \n",
    "    def __len__(self):\n",
    "        return self.n\n",
    "    \n",
    "    \n",
    "    def __getitem__(self,index):\n",
    "        if not -1 < index < self.capacity:\n",
    "            raise IndexError('Index is not found')\n",
    "        return self.array[index]\n",
    "        \n",
    "\n",
    "    def append(self, element):\n",
    "        if self.capacity == self.n:\n",
    "            self._resize(self.capacity*2) \n",
    "        self.array[self.n]= element\n",
    "        self.n+=1\n",
    "    \n",
    "    \n",
    "    def _resize(self, capacity):\n",
    "        newArray= self._create_Array(capacity)\n",
    "        \n",
    "        for i in range(self.n):\n",
    "            newArray[i]= self.array[i]\n",
    "        self.array= newArray\n",
    "        self.capacity= capacity\n",
    "        \n",
    "            \n",
    "    def _create_Array(self, capacity):\n",
    "        return(capacity * ctypes.py_object)()\n",
    "    \n",
    "        "
   ]
  },
  {
   "cell_type": "code",
   "execution_count": 190,
   "metadata": {},
   "outputs": [],
   "source": [
    "list1 = DynamicArray()\n",
    "list1.append(1)\n",
    "list1.append(2)\n",
    "list1.append(3)\n"
   ]
  },
  {
   "cell_type": "code",
   "execution_count": 191,
   "metadata": {},
   "outputs": [
    {
     "data": {
      "text/plain": [
       "1"
      ]
     },
     "execution_count": 191,
     "metadata": {},
     "output_type": "execute_result"
    }
   ],
   "source": [
    "list1[0]"
   ]
  },
  {
   "cell_type": "code",
   "execution_count": null,
   "metadata": {},
   "outputs": [],
   "source": []
  }
 ],
 "metadata": {
  "kernelspec": {
   "display_name": "Python 3",
   "language": "python",
   "name": "python3"
  },
  "language_info": {
   "codemirror_mode": {
    "name": "ipython",
    "version": 3
   },
   "file_extension": ".py",
   "mimetype": "text/x-python",
   "name": "python",
   "nbconvert_exporter": "python",
   "pygments_lexer": "ipython3",
   "version": "3.8.5"
  }
 },
 "nbformat": 4,
 "nbformat_minor": 4
}
