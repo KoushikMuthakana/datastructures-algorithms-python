{
 "cells": [
  {
   "cell_type": "markdown",
   "metadata": {},
   "source": [
    "# Introduction to Big O Notations"
   ]
  },
  {
   "cell_type": "markdown",
   "metadata": {},
   "source": [
    "### What is an Algorithm?\n",
    "- An Algorithm is a simple procedure or formula for solving a problem\n",
    "\n",
    "### How do we analyze algorithms and how we can compare againt each other?\n",
    "\n",
    "Lets consider two solutions."
   ]
  },
  {
   "cell_type": "code",
   "execution_count": 12,
   "metadata": {},
   "outputs": [],
   "source": [
    "def sum1(num):\n",
    "    total_sum=0\n",
    "    for i in range(num+1):\n",
    "        total_sum+=i\n",
    "    return total_sum"
   ]
  },
  {
   "cell_type": "code",
   "execution_count": 15,
   "metadata": {},
   "outputs": [],
   "source": [
    "def sum2(num):\n",
    "    return (num*(num+1))//2"
   ]
  },
  {
   "cell_type": "code",
   "execution_count": 16,
   "metadata": {},
   "outputs": [
    {
     "name": "stdout",
     "output_type": "stream",
     "text": [
      "Solution 1 Result - 55\n",
      "Solution 2 Result - 55\n"
     ]
    }
   ],
   "source": [
    "print(\"Solution 1 Result -\",sum1(10))\n",
    "print(\"Solution 2 Result -\",sum2(10))"
   ]
  },
  {
   "cell_type": "code",
   "execution_count": 19,
   "metadata": {},
   "outputs": [
    {
     "name": "stdout",
     "output_type": "stream",
     "text": [
      "6.13 µs ± 128 ns per loop (mean ± std. dev. of 7 runs, 100000 loops each)\n"
     ]
    }
   ],
   "source": [
    "%timeit sum1(100)"
   ]
  },
  {
   "cell_type": "code",
   "execution_count": 20,
   "metadata": {},
   "outputs": [
    {
     "name": "stdout",
     "output_type": "stream",
     "text": [
      "225 ns ± 1.18 ns per loop (mean ± std. dev. of 7 runs, 1000000 loops each)\n"
     ]
    }
   ],
   "source": [
    "%timeit sum2(100)"
   ]
  },
  {
   "cell_type": "markdown",
   "metadata": {},
   "source": [
    "#### Which algorithm is best??\n",
    " - Solution 2 shows the lowest execution time, means it is the best solution?\n",
    " \n",
    "#### Does only execution time decides the best solution/algorithm ??\n",
    " - No, Along with execution time and memory helps to choose the best solution\n",
    " \n",
    " \n",
    " ### Here Big O Notation come into the picture\n",
    " "
   ]
  },
  {
   "cell_type": "markdown",
   "metadata": {},
   "source": [
    "### Big O Notation:\n",
    "   - It describes how quickly runtime will grow relative to the inputs as the input gets arbitrarily large\n",
    "    \n",
    "    Means, how quickly runtime will grow\n",
    "    \n",
    "   - Solution 1: Takes N+1 assignments during the total execution\n",
    "   - Solution 2: Takes 1 assignment during the total execution.\n",
    "   \n",
    "    So, Sol1, eventually grows with the inout size, where sol2 will be constant even the input size increases. "
   ]
  },
  {
   "cell_type": "markdown",
   "metadata": {},
   "source": [
    "<table>\n",
    "     <tr>\n",
    "         <th> Big-O </th>\n",
    "    <th>1</th>\n",
    "    <th>log(n)</th>\n",
    "    <th>n</th>\n",
    "    <th>nlog(n)</th>\n",
    "    <th>n^2</th>\n",
    "    <th>n^3</th>\n",
    "         <th> 2^n</th>   \n",
    "         \n",
    "  </tr>\n",
    "    <tr>\n",
    "        <td> <b>Name</b> </td>\n",
    "        <td> Constant</td>\n",
    "        <td>Logarithmic</td>\n",
    "        <td> Linear</td>\n",
    "        <td> Log Linear</td>\n",
    "        <td> Quadratic</td>\n",
    "        <td> Cubic</td>\n",
    "        <td> Exponential</td>\n",
    "    </tr>\n",
    "</table>"
   ]
  },
  {
   "cell_type": "markdown",
   "metadata": {},
   "source": [
    "### Examples:\n",
    "\n",
    "#### ~ Constant: O(n) \n",
    " - Always takes the same execution time, regardless the input size. \n"
   ]
  },
  {
   "cell_type": "code",
   "execution_count": 25,
   "metadata": {},
   "outputs": [
    {
     "name": "stdout",
     "output_type": "stream",
     "text": [
      "2\n"
     ]
    }
   ],
   "source": [
    "def func_cons(in_list):\n",
    "    print(in_list[1])\n",
    "\n",
    "lst= [1,2,3]    \n",
    "func_cons(lst)\n"
   ]
  },
  {
   "cell_type": "markdown",
   "metadata": {},
   "source": [
    "#### ~ Linear: O(n)\n",
    "- Always increases linearly with the input size"
   ]
  },
  {
   "cell_type": "code",
   "execution_count": 27,
   "metadata": {},
   "outputs": [
    {
     "name": "stdout",
     "output_type": "stream",
     "text": [
      "1\n",
      "2\n",
      "3\n"
     ]
    }
   ],
   "source": [
    "def func_lin(in_list):\n",
    "    for i in in_list:\n",
    "        print(i)\n",
    "func_lin(lst)"
   ]
  },
  {
   "cell_type": "markdown",
   "metadata": {},
   "source": [
    "#### ~ Quadratic: O(n^2)\n",
    "- Takes the n*n operations"
   ]
  },
  {
   "cell_type": "code",
   "execution_count": 30,
   "metadata": {},
   "outputs": [
    {
     "name": "stdout",
     "output_type": "stream",
     "text": [
      "1 1\n",
      "1 2\n",
      "1 3\n",
      "2 1\n",
      "2 2\n",
      "2 3\n",
      "3 1\n",
      "3 2\n",
      "3 3\n"
     ]
    }
   ],
   "source": [
    "def func_qua(in_list):\n",
    "    for ele in in_list:\n",
    "        for ele1 in in_list:\n",
    "            print(ele, ele1)\n",
    "\n",
    "func_qua(lst)"
   ]
  },
  {
   "cell_type": "markdown",
   "metadata": {},
   "source": [
    "#### Lets calculate Big-O :"
   ]
  },
  {
   "cell_type": "code",
   "execution_count": 35,
   "metadata": {},
   "outputs": [
    {
     "name": "stdout",
     "output_type": "stream",
     "text": [
      "2\n",
      "1\n",
      "2\n",
      "3\n",
      "4\n",
      "5\n",
      "hello world\n",
      "hello world\n",
      "hello world\n",
      "hello world\n",
      "hello world\n",
      "hello world\n",
      "hello world\n",
      "hello world\n",
      "hello world\n",
      "hello world\n"
     ]
    }
   ],
   "source": [
    "def func_com(in_list):\n",
    "    print(in_list[1]) # O(1)\n",
    "    \n",
    "    ####  O(n/2)\n",
    "    mid_val= len(in_list)//2\n",
    "    for i in in_list[:mid_val]:\n",
    "        print(i)\n",
    "\n",
    "    ####\n",
    "    \n",
    "    #### O(10)\n",
    "    for i in range(10):\n",
    "        print(\"hello world\")\n",
    "\n",
    "lst=[1,2,3,4,5,6,7,8,9,10,11]        \n",
    "func_com(lst)"
   ]
  },
  {
   "cell_type": "markdown",
   "metadata": {},
   "source": [
    "#### Lets calculate Big O, Lets sum it up all\n",
    "- O(1+ n/2+ 10) ====> O(n)\n",
    "Note: As a input size increases eventually, constants are ignored"
   ]
  },
  {
   "cell_type": "markdown",
   "metadata": {},
   "source": [
    "#### Best , Worst Cases\n",
    "lets discuss simple example"
   ]
  },
  {
   "cell_type": "code",
   "execution_count": 38,
   "metadata": {},
   "outputs": [
    {
     "name": "stdout",
     "output_type": "stream",
     "text": [
      "True\n"
     ]
    },
    {
     "data": {
      "text/plain": [
       "False"
      ]
     },
     "execution_count": 38,
     "metadata": {},
     "output_type": "execute_result"
    }
   ],
   "source": [
    "def get_num(in_list,match):\n",
    "    for i in in_list:\n",
    "        if i == match:\n",
    "            return True\n",
    "    return False\n",
    "\n",
    "lst=[1,2,3,4,5,6,7]\n",
    "print(get_num(lst,1)) #O(1)\n",
    "get_num(lst,11)  #O(n)"
   ]
  },
  {
   "cell_type": "markdown",
   "metadata": {},
   "source": [
    "#### Best Case\n",
    "- Here O(1), 1 is the first element in the list, consider as the best case, as it doesn't iterate all the elements in the list\n",
    "\n",
    "#### Worst Case\n",
    "- Here O(n), The worst case is searching the element which is the last element or the element which is not present in the list"
   ]
  },
  {
   "cell_type": "markdown",
   "metadata": {},
   "source": [
    "### Space Complexity:\n",
    "- A space complexity states that, how much space is occupied in the memory for the solution/algorithm\n",
    "\n",
    "lets see the examples:"
   ]
  },
  {
   "cell_type": "code",
   "execution_count": 46,
   "metadata": {},
   "outputs": [
    {
     "data": {
      "text/plain": [
       "['heyy', 'heyy', 'heyy', 'heyy']"
      ]
     },
     "execution_count": 46,
     "metadata": {},
     "output_type": "execute_result"
    }
   ],
   "source": [
    "def func_space(num):\n",
    "    new_list = []\n",
    "    for i in range(num):\n",
    "        new_list.append(\"heyy\")\n",
    "    \n",
    "    return new_list\n",
    "func_space(4)"
   ]
  },
  {
   "cell_type": "markdown",
   "metadata": {},
   "source": [
    "##### Here, the space complexity is gradually increases along with the input size\n",
    "i.e \n",
    "- Space Complexity - O(n)\n",
    "- Time Complexity - O(n)"
   ]
  },
  {
   "cell_type": "code",
   "execution_count": 47,
   "metadata": {},
   "outputs": [
    {
     "name": "stdout",
     "output_type": "stream",
     "text": [
      "hello ..\n",
      "hello ..\n",
      "hello ..\n",
      "hello ..\n"
     ]
    }
   ],
   "source": [
    "def func_space1(num):\n",
    "    for i in range(num):\n",
    "        print(\"hello ..\")\n",
    "\n",
    "func_space1(4)"
   ]
  },
  {
   "cell_type": "markdown",
   "metadata": {},
   "source": [
    "#### Here, the space complexity is same irrespective to the size of input, as it need to remember only one string\n",
    "i.e \n",
    "- Time Complexity - O(n)\n",
    "- Space Complexity - O(1)"
   ]
  },
  {
   "cell_type": "code",
   "execution_count": null,
   "metadata": {},
   "outputs": [],
   "source": []
  }
 ],
 "metadata": {
  "kernelspec": {
   "display_name": "Python 3",
   "language": "python",
   "name": "python3"
  },
  "language_info": {
   "codemirror_mode": {
    "name": "ipython",
    "version": 3
   },
   "file_extension": ".py",
   "mimetype": "text/x-python",
   "name": "python",
   "nbconvert_exporter": "python",
   "pygments_lexer": "ipython3",
   "version": "3.8.5"
  }
 },
 "nbformat": 4,
 "nbformat_minor": 4
}
